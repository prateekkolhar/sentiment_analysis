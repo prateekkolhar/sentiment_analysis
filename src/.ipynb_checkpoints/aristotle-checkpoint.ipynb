{
 "cells": [
  {
   "cell_type": "code",
   "execution_count": 14,
   "metadata": {},
   "outputs": [
    {
     "name": "stdout",
     "output_type": "stream",
     "text": [
      "[array([ 4.,  8.])]\n"
     ]
    }
   ],
   "source": [
    "# feedforward_example.py\n",
    "\n",
    "import tensorflow as tf\n",
    "import numpy as np\n",
    "\n",
    "# Example of training a feedforward network with one hidden layer to solve XOR.\n",
    "if __name__==\"__main__\":\n",
    "    # MAKE THE DATA\n",
    "    # Synthetic data for XOR: y = x0 XOR x1\n",
    "    train_xs = np.array([[[1.0, 1.0], [1.0, 1.0]],[[2.0, 2.0], [2.0, 2.0]]])\n",
    "    train_ys = np.array([[1.0, 1.0],[1.0, 1.0]])\n",
    "    x = tf.constant(train_xs)\n",
    "    t = tf.constant(train_ys)\n",
    "    out = tf.tensordot(x, t, 2)\n",
    "    sess = tf.Session()\n",
    "    print(sess.run([out]))\n",
    "    \n",
    "    \n"
   ]
  },
  {
   "cell_type": "code",
   "execution_count": 2,
   "metadata": {},
   "outputs": [
    {
     "data": {
      "text/plain": [
       "<module 'sentiment_data' from 'sentiment_data.pyc'>"
      ]
     },
     "execution_count": 2,
     "metadata": {},
     "output_type": "execute_result"
    }
   ],
   "source": [
    "reload(md)\n",
    "reload(sd)"
   ]
  },
  {
   "cell_type": "code",
   "execution_count": 1,
   "metadata": {},
   "outputs": [
    {
     "name": "stdout",
     "output_type": "stream",
     "text": [
      "Read in 17614 vectors of size 300\n",
      "8530 / 1066 / 1066 train/dev/test examples\n",
      "(8530, 300)\n",
      "<type 'numpy.float64'>\n",
      "(1066, 300)\n",
      "Loss for iteration 0: 5792.988046213979\n",
      "722/1066 correct after training\n",
      "0.6772983114446529 correct after training\n",
      "Loss for iteration 1: 5027.7320728373579\n",
      "793/1066 correct after training\n",
      "0.7439024390243902 correct after training\n",
      "Loss for iteration 2: 4774.3562361479007\n",
      "809/1066 correct after training\n",
      "0.7589118198874296 correct after training\n",
      "Loss for iteration 3: 4666.2353996246011\n",
      "808/1066 correct after training\n",
      "0.7579737335834896 correct after training\n",
      "Loss for iteration 4: 4594.2918522582077\n",
      "802/1066 correct after training\n",
      "0.7523452157598499 correct after training\n",
      "Loss for iteration 5: 4540.4697007508103\n",
      "806/1066 correct after training\n",
      "0.7560975609756098 correct after training\n",
      "Loss for iteration 6: 4493.4556701340298\n",
      "804/1066 correct after training\n",
      "0.7542213883677298 correct after training\n",
      "Loss for iteration 7: 4478.1253926429617\n",
      "805/1066 correct after training\n",
      "0.7551594746716698 correct after training\n",
      "Loss for iteration 8: 4444.4577676238505\n",
      "808/1066 correct after training\n",
      "0.7579737335834896 correct after training\n",
      "Loss for iteration 9: 4404.9692764104393\n",
      "810/1066 correct after training\n",
      "0.7598499061913696 correct after training\n"
     ]
    }
   ],
   "source": [
    "import sys\n",
    "import models as md\n",
    "import sentiment_data as sd\n",
    "import tensorflow as tf\n",
    "import numpy as np\n",
    "\n",
    "if __name__ == '__main__':\n",
    "    # Use either 50-dim or 300-dim vectors\n",
    "    #word_vectors = read_word_embeddings(\"data/glove.6B.50d-relativized.txt\")\n",
    "    word_vectors = sd.read_word_embeddings(\"data/glove.6B.300d-relativized.txt\")\n",
    "\n",
    "    # Load train, dev, and test exs\n",
    "    train_exs = sd.read_and_index_sentiment_examples(\"data/train.txt\", word_vectors.word_indexer)\n",
    "    dev_exs = sd.read_and_index_sentiment_examples(\"data/dev.txt\", word_vectors.word_indexer)\n",
    "    test_exs = sd.read_and_index_sentiment_examples(\"data/test-blind.txt\", word_vectors.word_indexer)\n",
    "    print repr(len(train_exs)) + \" / \" + repr(len(dev_exs)) + \" / \" + repr(len(test_exs)) + \" train/dev/test examples\"\n",
    "\n",
    "    system_to_run = \"FF\"\n",
    "    \n",
    "    if system_to_run == \"FF\":\n",
    "        with tf.variable_scope(\"model\", reuse=None):\n",
    "            test_exs_predicted = md.train_ffnn(train_exs, dev_exs, test_exs, word_vectors, 10)\n",
    "#         write_sentiment_examples(test_exs_predicted, \"test-blind.output.txt\", word_vectors.word_indexer)\n",
    "    elif system_to_run == \"FANCY\":\n",
    "        test_exs_predicted = md.train_fancy(train_exs, dev_exs, test_exs, word_vectors)\n",
    "    else:\n",
    "        raise Exception(\"Pass in either FF or FANCY to run the appropriate system\")\n",
    "    # Write the test set output\n",
    "#     write_sentiment_examples(test_exs_predicted, \"test-blind.output.txt\", word_vectors.word_indexer)"
   ]
  },
  {
   "cell_type": "code",
   "execution_count": null,
   "metadata": {
    "scrolled": true
   },
   "outputs": [
    {
     "name": "stdout",
     "output_type": "stream",
     "text": [
      "Read in 17614 vectors of size 300\n",
      "8530 / 1066 / 1066 train/dev/test examples\n",
      "(8530, 60, 300)\n",
      "<type 'numpy.ndarray'>\n",
      "(1066, 60, 300)\n",
      "Loss for iteration 0: 5963.8107006256787\n",
      "521/1066 correct after training\n",
      "0.48874296435272047 correct after training\n",
      "Loss for iteration 1: 5915.0959674265014\n",
      "548/1066 correct after training\n",
      "0.5140712945590994 correct after training\n",
      "Loss for iteration 2: 5752.3187998359072\n",
      "694/1066 correct after training\n",
      "0.651031894934334 correct after training\n"
     ]
    }
   ],
   "source": [
    "import sys\n",
    "import models as md\n",
    "import sentiment_data as sd\n",
    "import tensorflow as tf\n",
    "import numpy as np\n",
    "\n",
    "if __name__ == '__main__':\n",
    "    # Use either 50-dim or 300-dim vectors\n",
    "    #word_vectors = read_word_embeddings(\"data/glove.6B.50d-relativized.txt\")\n",
    "    word_vectors = sd.read_word_embeddings(\"data/glove.6B.300d-relativized.txt\")\n",
    "\n",
    "    # Load train, dev, and test exs\n",
    "    train_exs = sd.read_and_index_sentiment_examples(\"data/train.txt\", word_vectors.word_indexer)\n",
    "    dev_exs = sd.read_and_index_sentiment_examples(\"data/dev.txt\", word_vectors.word_indexer)\n",
    "    test_exs = sd.read_and_index_sentiment_examples(\"data/test-blind.txt\", word_vectors.word_indexer)\n",
    "    print repr(len(train_exs)) + \" / \" + repr(len(dev_exs)) + \" / \" + repr(len(test_exs)) + \" train/dev/test examples\"\n",
    "\n",
    "    system_to_run = \"FANCY\"\n",
    "    \n",
    "    if system_to_run == \"FF\":\n",
    "        with tf.variable_scope(\"model\", reuse=None):\n",
    "            test_exs_predicted = md.train_ffnn(train_exs, dev_exs, test_exs, word_vectors, 10)\n",
    "#         write_sentiment_examples(test_exs_predicted, \"test-blind.output.txt\", word_vectors.word_indexer)\n",
    "    elif system_to_run == \"FANCY\":\n",
    "        with tf.variable_scope(\"model2\", reuse=None):\n",
    "            test_exs_predicted = md.train_bi_lstm(train_exs, dev_exs, test_exs, word_vectors,30)\n",
    "    else:\n",
    "        raise Exception(\"Pass in either FF or FANCY to run the appropriate system\")\n",
    "    # Write the test set output\n",
    "#     write_sentiment_examples(test_exs_predicted, \"test-blind.output.txt\", word_vectors.word_indexer)"
   ]
  },
  {
   "cell_type": "code",
   "execution_count": 3,
   "metadata": {
    "collapsed": true
   },
   "outputs": [],
   "source": [
    "testing batch with 1"
   ]
  }
 ],
 "metadata": {
  "kernelspec": {
   "display_name": "Python 2",
   "language": "python",
   "name": "python2"
  },
  "language_info": {
   "codemirror_mode": {
    "name": "ipython",
    "version": 2
   },
   "file_extension": ".py",
   "mimetype": "text/x-python",
   "name": "python",
   "nbconvert_exporter": "python",
   "pygments_lexer": "ipython2",
   "version": "2.7.14"
  }
 },
 "nbformat": 4,
 "nbformat_minor": 2
}
