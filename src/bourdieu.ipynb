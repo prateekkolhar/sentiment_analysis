{
 "cells": [
  {
   "cell_type": "code",
   "execution_count": 14,
   "metadata": {},
   "outputs": [
    {
     "name": "stdout",
     "output_type": "stream",
     "text": [
      "[array([ 4.,  8.])]\n"
     ]
    }
   ],
   "source": [
    "# feedforward_example.py\n",
    "\n",
    "import tensorflow as tf\n",
    "import numpy as np\n",
    "\n",
    "# Example of training a feedforward network with one hidden layer to solve XOR.\n",
    "if __name__==\"__main__\":\n",
    "    # MAKE THE DATA\n",
    "    # Synthetic data for XOR: y = x0 XOR x1\n",
    "    train_xs = np.array([[[1.0, 1.0], [1.0, 1.0]],[[2.0, 2.0], [2.0, 2.0]]])\n",
    "    train_ys = np.array([[1.0, 1.0],[1.0, 1.0]])\n",
    "    x = tf.constant(train_xs)\n",
    "    t = tf.constant(train_ys)\n",
    "    out = tf.tensordot(x, t, 2)\n",
    "    sess = tf.Session()\n",
    "    print(sess.run([out]))\n",
    "    \n",
    "    \n"
   ]
  },
  {
   "cell_type": "code",
   "execution_count": 2,
   "metadata": {},
   "outputs": [
    {
     "data": {
      "text/plain": [
       "<module 'sentiment_data' from 'sentiment_data.pyc'>"
      ]
     },
     "execution_count": 2,
     "metadata": {},
     "output_type": "execute_result"
    }
   ],
   "source": [
    "reload(md)\n",
    "reload(sd)"
   ]
  },
  {
   "cell_type": "code",
   "execution_count": 1,
   "metadata": {},
   "outputs": [
    {
     "name": "stdout",
     "output_type": "stream",
     "text": [
      "Read in 17614 vectors of size 300\n",
      "8530 / 1066 / 1066 train/dev/test examples\n",
      "(8530, 300)\n",
      "<type 'numpy.float64'>\n",
      "(1066, 300)\n",
      "Loss for iteration 0: 5354.4698287668234\n",
      "797/1066 correct after training\n",
      "0.7476547842401501 correct after training\n",
      "Loss for iteration 1: 4933.5257133021305\n",
      "763/1066 correct after training\n",
      "0.7157598499061913 correct after training\n",
      "Loss for iteration 2: 4846.8193399756919\n",
      "807/1066 correct after training\n",
      "0.7570356472795498 correct after training\n",
      "Loss for iteration 3: 4860.0786412010993\n",
      "786/1066 correct after training\n",
      "0.7373358348968105 correct after training\n",
      "Loss for iteration 4: 4822.9893534455741\n",
      "814/1066 correct after training\n",
      "0.7636022514071295 correct after training\n",
      "Loss for iteration 5: 4715.8831189569701\n",
      "808/1066 correct after training\n",
      "0.7579737335834896 correct after training\n",
      "Loss for iteration 6: 4716.1567346757574\n",
      "812/1066 correct after training\n",
      "0.7617260787992496 correct after training\n",
      "Loss for iteration 7: 4772.7576125967425\n",
      "806/1066 correct after training\n",
      "0.7560975609756098 correct after training\n",
      "Loss for iteration 8: 4639.1244596463694\n",
      "824/1066 correct after training\n",
      "0.7729831144465291 correct after training\n",
      "Loss for iteration 9: 4638.592819254347\n",
      "810/1066 correct after training\n",
      "0.7598499061913696 correct after training\n",
      "Loss for iteration 10: 4667.9925228122765\n",
      "801/1066 correct after training\n",
      "0.7514071294559099 correct after training\n",
      "Loss for iteration 11: 4656.9344479398196\n",
      "798/1066 correct after training\n",
      "0.7485928705440901 correct after training\n",
      "Loss for iteration 12: 4583.1138641980979\n",
      "807/1066 correct after training\n",
      "0.7570356472795498 correct after training\n",
      "Loss for iteration 13: 4617.5070305608342\n",
      "807/1066 correct after training\n",
      "0.7570356472795498 correct after training\n",
      "Loss for iteration 14: 4593.618644758908\n",
      "806/1066 correct after training\n",
      "0.7560975609756098 correct after training\n",
      "Loss for iteration 15: 4551.6264722192136\n",
      "817/1066 correct after training\n",
      "0.7664165103189493 correct after training\n",
      "Loss for iteration 16: 4612.9491447090713\n",
      "796/1066 correct after training\n",
      "0.7467166979362101 correct after training\n",
      "Loss for iteration 17: 4507.0281193931778\n",
      "804/1066 correct after training\n",
      "0.7542213883677298 correct after training\n",
      "Loss for iteration 18: 4634.8836442632501\n",
      "811/1066 correct after training\n",
      "0.7607879924953096 correct after training\n",
      "Loss for iteration 19: 4516.331972240293\n",
      "808/1066 correct after training\n",
      "0.7579737335834896 correct after training\n",
      "Loss for iteration 20: 4516.6229007843667\n",
      "808/1066 correct after training\n",
      "0.7579737335834896 correct after training\n",
      "Loss for iteration 21: 4609.0585810313596\n",
      "824/1066 correct after training\n",
      "0.7729831144465291 correct after training\n",
      "Loss for iteration 22: 4446.3283633197934\n",
      "824/1066 correct after training\n",
      "0.7729831144465291 correct after training\n",
      "Loss for iteration 23: 4528.7616089012008\n",
      "811/1066 correct after training\n",
      "0.7607879924953096 correct after training\n",
      "Loss for iteration 24: 4402.2692518527629\n",
      "818/1066 correct after training\n",
      "0.7673545966228893 correct after training\n",
      "Loss for iteration 25: 4514.4493431803457\n",
      "819/1066 correct after training\n",
      "0.7682926829268293 correct after training\n",
      "Loss for iteration 26: 4412.4318139980514\n",
      "802/1066 correct after training\n",
      "0.7523452157598499 correct after training\n",
      "Loss for iteration 27: 4434.3774613409323\n",
      "820/1066 correct after training\n",
      "0.7692307692307693 correct after training\n",
      "Loss for iteration 28: 4543.9073988695327\n",
      "814/1066 correct after training\n",
      "0.7636022514071295 correct after training\n",
      "Loss for iteration 29: 4431.3258082997309\n",
      "815/1066 correct after training\n",
      "0.7645403377110694 correct after training\n"
     ]
    }
   ],
   "source": [
    "import sys\n",
    "import models as md\n",
    "import sentiment_data as sd\n",
    "import tensorflow as tf\n",
    "import numpy as np\n",
    "\n",
    "if __name__ == '__main__':\n",
    "    # Use either 50-dim or 300-dim vectors\n",
    "    #word_vectors = read_word_embeddings(\"data/glove.6B.50d-relativized.txt\")\n",
    "    word_vectors = sd.read_word_embeddings(\"data/glove.6B.300d-relativized.txt\")\n",
    "\n",
    "    # Load train, dev, and test exs\n",
    "    train_exs = sd.read_and_index_sentiment_examples(\"data/train.txt\", word_vectors.word_indexer)\n",
    "    dev_exs = sd.read_and_index_sentiment_examples(\"data/dev.txt\", word_vectors.word_indexer)\n",
    "    test_exs = sd.read_and_index_sentiment_examples(\"data/test-blind.txt\", word_vectors.word_indexer)\n",
    "    print repr(len(train_exs)) + \" / \" + repr(len(dev_exs)) + \" / \" + repr(len(test_exs)) + \" train/dev/test examples\"\n",
    "\n",
    "    system_to_run = \"FF\"\n",
    "    \n",
    "    if system_to_run == \"FF\":\n",
    "        with tf.variable_scope(\"model\", reuse=None):\n",
    "            test_exs_predicted = md.train_ffnn(train_exs, dev_exs, test_exs, word_vectors, 30)\n",
    "#         write_sentiment_examples(test_exs_predicted, \"test-blind.output.txt\", word_vectors.word_indexer)\n",
    "    elif system_to_run == \"FANCY\":\n",
    "        test_exs_predicted = md.train_fancy(train_exs, dev_exs, test_exs, word_vectors)\n",
    "    else:\n",
    "        raise Exception(\"Pass in either FF or FANCY to run the appropriate system\")\n",
    "    # Write the test set output\n",
    "#     write_sentiment_examples(test_exs_predicted, \"test-blind.output.txt\", word_vectors.word_indexer)"
   ]
  },
  {
   "cell_type": "code",
   "execution_count": null,
   "metadata": {
    "scrolled": true
   },
   "outputs": [
    {
     "name": "stdout",
     "output_type": "stream",
     "text": [
      "Read in 17614 vectors of size 300\n",
      "8530 / 1066 / 1066 train/dev/test examples\n",
      "(8530, 60, 300)\n",
      "<type 'numpy.ndarray'>\n",
      "(1066, 60, 300)\n"
     ]
    }
   ],
   "source": [
    "import sys\n",
    "import models as md\n",
    "import sentiment_data as sd\n",
    "import tensorflow as tf\n",
    "import numpy as np\n",
    "\n",
    "if __name__ == '__main__':\n",
    "    # Use either 50-dim or 300-dim vectors\n",
    "    #word_vectors = read_word_embeddings(\"data/glove.6B.50d-relativized.txt\")\n",
    "    word_vectors = sd.read_word_embeddings(\"data/glove.6B.300d-relativized.txt\")\n",
    "\n",
    "    # Load train, dev, and test exs\n",
    "    train_exs = sd.read_and_index_sentiment_examples(\"data/train.txt\", word_vectors.word_indexer)\n",
    "    dev_exs = sd.read_and_index_sentiment_examples(\"data/dev.txt\", word_vectors.word_indexer)\n",
    "    test_exs = sd.read_and_index_sentiment_examples(\"data/test-blind.txt\", word_vectors.word_indexer)\n",
    "    print repr(len(train_exs)) + \" / \" + repr(len(dev_exs)) + \" / \" + repr(len(test_exs)) + \" train/dev/test examples\"\n",
    "\n",
    "    system_to_run = \"FANCY\"\n",
    "    \n",
    "    if system_to_run == \"FF\":\n",
    "        with tf.variable_scope(\"model\", reuse=None):\n",
    "            test_exs_predicted = md.train_ffnn(train_exs, dev_exs, test_exs, word_vectors, 10)\n",
    "#         write_sentiment_examples(test_exs_predicted, \"test-blind.output.txt\", word_vectors.word_indexer)\n",
    "    elif system_to_run == \"FANCY\":\n",
    "        with tf.variable_scope(\"model2\", reuse=None):\n",
    "            test_exs_predicted = md.train_bi_lstm(train_exs[:], dev_exs, test_exs, word_vectors,\"bourdieu_bi-lstm-exp\",30)\n",
    "    else:\n",
    "        raise Exception(\"Pass in either FF or FANCY to run the appropriate system\")\n",
    "    # Write the test set output\n",
    "#     write_sentiment_examples(test_exs_predicted, \"test-blind.output.txt\", word_vectors.word_indexer)"
   ]
  },
  {
   "cell_type": "code",
   "execution_count": 3,
   "metadata": {
    "collapsed": true
   },
   "outputs": [],
   "source": [
    "##without lr"
   ]
  }
 ],
 "metadata": {
  "kernelspec": {
   "display_name": "Python 2",
   "language": "python",
   "name": "python2"
  },
  "language_info": {
   "codemirror_mode": {
    "name": "ipython",
    "version": 2
   },
   "file_extension": ".py",
   "mimetype": "text/x-python",
   "name": "python",
   "nbconvert_exporter": "python",
   "pygments_lexer": "ipython2",
   "version": "2.7.14"
  }
 },
 "nbformat": 4,
 "nbformat_minor": 2
}
