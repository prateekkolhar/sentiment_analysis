{
 "cells": [
  {
   "cell_type": "code",
   "execution_count": 14,
   "metadata": {},
   "outputs": [
    {
     "name": "stdout",
     "output_type": "stream",
     "text": [
      "[array([ 4.,  8.])]\n"
     ]
    }
   ],
   "source": [
    "# feedforward_example.py\n",
    "\n",
    "import tensorflow as tf\n",
    "import numpy as np\n",
    "\n",
    "# Example of training a feedforward network with one hidden layer to solve XOR.\n",
    "if __name__==\"__main__\":\n",
    "    # MAKE THE DATA\n",
    "    # Synthetic data for XOR: y = x0 XOR x1\n",
    "    train_xs = np.array([[[1.0, 1.0], [1.0, 1.0]],[[2.0, 2.0], [2.0, 2.0]]])\n",
    "    train_ys = np.array([[1.0, 1.0],[1.0, 1.0]])\n",
    "    x = tf.constant(train_xs)\n",
    "    t = tf.constant(train_ys)\n",
    "    out = tf.tensordot(x, t, 2)\n",
    "    sess = tf.Session()\n",
    "    print(sess.run([out]))\n",
    "    \n",
    "    \n"
   ]
  },
  {
   "cell_type": "code",
   "execution_count": 2,
   "metadata": {},
   "outputs": [
    {
     "data": {
      "text/plain": [
       "<module 'sentiment_data' from 'sentiment_data.pyc'>"
      ]
     },
     "execution_count": 2,
     "metadata": {},
     "output_type": "execute_result"
    }
   ],
   "source": [
    "reload(md)\n",
    "reload(sd)"
   ]
  },
  {
   "cell_type": "code",
   "execution_count": 1,
   "metadata": {},
   "outputs": [
    {
     "name": "stdout",
     "output_type": "stream",
     "text": [
      "Read in 17614 vectors of size 300\n",
      "8530 / 1066 / 1066 train/dev/test examples\n",
      "(8530, 300)\n",
      "(1066, 300)\n",
      "(8530, 300)\n",
      "<type 'numpy.float64'>\n",
      "(1066, 300)\n",
      "Loss for iteration 0: 6366.3164852266227\n"
     ]
    },
    {
     "ename": "NameError",
     "evalue": "global name 'dev_seq_lens' is not defined",
     "output_type": "error",
     "traceback": [
      "\u001b[0;31m---------------------------------------------------------------------------\u001b[0m",
      "\u001b[0;31mNameError\u001b[0m                                 Traceback (most recent call last)",
      "\u001b[0;32m<ipython-input-1-f921485bf6cf>\u001b[0m in \u001b[0;36m<module>\u001b[0;34m()\u001b[0m\n\u001b[1;32m     20\u001b[0m     \u001b[0;32mif\u001b[0m \u001b[0msystem_to_run\u001b[0m \u001b[0;34m==\u001b[0m \u001b[0;34m\"FF\"\u001b[0m\u001b[0;34m:\u001b[0m\u001b[0;34m\u001b[0m\u001b[0m\n\u001b[1;32m     21\u001b[0m         \u001b[0;32mwith\u001b[0m \u001b[0mtf\u001b[0m\u001b[0;34m.\u001b[0m\u001b[0mvariable_scope\u001b[0m\u001b[0;34m(\u001b[0m\u001b[0;34m\"model\"\u001b[0m\u001b[0;34m,\u001b[0m \u001b[0mreuse\u001b[0m\u001b[0;34m=\u001b[0m\u001b[0mNone\u001b[0m\u001b[0;34m)\u001b[0m\u001b[0;34m:\u001b[0m\u001b[0;34m\u001b[0m\u001b[0m\n\u001b[0;32m---> 22\u001b[0;31m             \u001b[0mtest_exs_predicted\u001b[0m \u001b[0;34m=\u001b[0m \u001b[0mmd\u001b[0m\u001b[0;34m.\u001b[0m\u001b[0mtrain_ffnn\u001b[0m\u001b[0;34m(\u001b[0m\u001b[0mtrain_exs\u001b[0m\u001b[0;34m,\u001b[0m \u001b[0mdev_exs\u001b[0m\u001b[0;34m,\u001b[0m \u001b[0mtest_exs\u001b[0m\u001b[0;34m,\u001b[0m \u001b[0mword_vectors\u001b[0m\u001b[0;34m,\u001b[0m \u001b[0;36m30\u001b[0m\u001b[0;34m)\u001b[0m\u001b[0;34m\u001b[0m\u001b[0m\n\u001b[0m\u001b[1;32m     23\u001b[0m \u001b[0;31m#         write_sentiment_examples(test_exs_predicted, \"test-blind.output.txt\", word_vectors.word_indexer)\u001b[0m\u001b[0;34m\u001b[0m\u001b[0;34m\u001b[0m\u001b[0m\n\u001b[1;32m     24\u001b[0m     \u001b[0;32melif\u001b[0m \u001b[0msystem_to_run\u001b[0m \u001b[0;34m==\u001b[0m \u001b[0;34m\"FANCY\"\u001b[0m\u001b[0;34m:\u001b[0m\u001b[0;34m\u001b[0m\u001b[0m\n",
      "\u001b[0;32m/v/filer5b/v20q001/prateekk/projects/nlp_proj3_senti/src/models.pyc\u001b[0m in \u001b[0;36mtrain_ffnn\u001b[0;34m(train_exs, dev_exs, test_exs, word_vectors, file_desc, num_epochs)\u001b[0m\n\u001b[1;32m    165\u001b[0m \u001b[0;34m\u001b[0m\u001b[0m\n\u001b[1;32m    166\u001b[0m                 \u001b[0;32mreturn\u001b[0m \u001b[0mtest_exs\u001b[0m\u001b[0;34m,\u001b[0m \u001b[0maccuracy\u001b[0m\u001b[0;34m\u001b[0m\u001b[0m\n\u001b[0;32m--> 167\u001b[0;31m             \u001b[0m_\u001b[0m\u001b[0;34m,\u001b[0m\u001b[0maccuracy\u001b[0m \u001b[0;34m=\u001b[0m \u001b[0mevaluate_examples\u001b[0m\u001b[0;34m(\u001b[0m\u001b[0mdev_xs\u001b[0m\u001b[0;34m,\u001b[0m\u001b[0mdev_ys\u001b[0m\u001b[0;34m,\u001b[0m \u001b[0mdev_seq_lens\u001b[0m\u001b[0;34m,\u001b[0m \u001b[0mTrue\u001b[0m\u001b[0;34m)\u001b[0m\u001b[0;34m\u001b[0m\u001b[0m\n\u001b[0m\u001b[1;32m    168\u001b[0m             \u001b[0mtest_exs_predicted\u001b[0m\u001b[0;34m,\u001b[0m\u001b[0m_\u001b[0m \u001b[0;34m=\u001b[0m \u001b[0mevaluate_examples\u001b[0m\u001b[0;34m(\u001b[0m\u001b[0mtest_xs\u001b[0m\u001b[0;34m,\u001b[0m\u001b[0mtest_ys\u001b[0m\u001b[0;34m,\u001b[0m \u001b[0mtest_seq_lens\u001b[0m\u001b[0;34m,\u001b[0m \u001b[0mFalse\u001b[0m\u001b[0;34m,\u001b[0m \u001b[0mtest_exs\u001b[0m\u001b[0;34m)\u001b[0m\u001b[0;34m\u001b[0m\u001b[0m\n\u001b[1;32m    169\u001b[0m \u001b[0;34m\u001b[0m\u001b[0m\n",
      "\u001b[0;31mNameError\u001b[0m: global name 'dev_seq_lens' is not defined"
     ]
    }
   ],
   "source": [
    "import sys\n",
    "import models as md\n",
    "import sentiment_data as sd\n",
    "import tensorflow as tf\n",
    "import numpy as np\n",
    "\n",
    "if __name__ == '__main__':\n",
    "    # Use either 50-dim or 300-dim vectors\n",
    "    #word_vectors = read_word_embeddings(\"data/glove.6B.50d-relativized.txt\")\n",
    "    word_vectors = sd.read_word_embeddings(\"data/glove.6B.300d-relativized.txt\")\n",
    "\n",
    "    # Load train, dev, and test exs\n",
    "    train_exs = sd.read_and_index_sentiment_examples(\"data/train.txt\", word_vectors.word_indexer)\n",
    "    dev_exs = sd.read_and_index_sentiment_examples(\"data/dev.txt\", word_vectors.word_indexer)\n",
    "    test_exs = sd.read_and_index_sentiment_examples(\"data/test-blind.txt\", word_vectors.word_indexer)\n",
    "    print repr(len(train_exs)) + \" / \" + repr(len(dev_exs)) + \" / \" + repr(len(test_exs)) + \" train/dev/test examples\"\n",
    "\n",
    "    system_to_run = \"FF\"\n",
    "    \n",
    "    if system_to_run == \"FF\":\n",
    "        with tf.variable_scope(\"model\", reuse=None):\n",
    "            test_exs_predicted = md.train_ffnn(train_exs, dev_exs, test_exs, word_vectors, 30)\n",
    "#         write_sentiment_examples(test_exs_predicted, \"test-blind.output.txt\", word_vectors.word_indexer)\n",
    "    elif system_to_run == \"FANCY\":\n",
    "        test_exs_predicted = md.train_fancy(train_exs, dev_exs, test_exs, word_vectors)\n",
    "    else:\n",
    "        raise Exception(\"Pass in either FF or FANCY to run the appropriate system\")\n",
    "    # Write the test set output\n",
    "#     write_sentiment_examples(test_exs_predicted, \"test-blind.output.txt\", word_vectors.word_indexer)"
   ]
  },
  {
   "cell_type": "code",
   "execution_count": null,
   "metadata": {
    "scrolled": true
   },
   "outputs": [
    {
     "name": "stdout",
     "output_type": "stream",
     "text": [
      "Read in 17614 vectors of size 300\n",
      "8530 / 1066 / 1066 train/dev/test examples\n",
      "(8530, 60, 300)\n",
      "<type 'numpy.ndarray'>\n",
      "(1066, 60, 300)\n"
     ]
    }
   ],
   "source": [
    "import sys\n",
    "import models as md\n",
    "import sentiment_data as sd\n",
    "import tensorflow as tf\n",
    "import numpy as np\n",
    "\n",
    "if __name__ == '__main__':\n",
    "    # Use either 50-dim or 300-dim vectors\n",
    "    #word_vectors = read_word_embeddings(\"data/glove.6B.50d-relativized.txt\")\n",
    "    word_vectors = sd.read_word_embeddings(\"data/glove.6B.300d-relativized.txt\")\n",
    "\n",
    "    # Load train, dev, and test exs\n",
    "    train_exs = sd.read_and_index_sentiment_examples(\"data/train.txt\", word_vectors.word_indexer)\n",
    "    dev_exs = sd.read_and_index_sentiment_examples(\"data/dev.txt\", word_vectors.word_indexer)\n",
    "    test_exs = sd.read_and_index_sentiment_examples(\"data/test-blind.txt\", word_vectors.word_indexer)\n",
    "    print repr(len(train_exs)) + \" / \" + repr(len(dev_exs)) + \" / \" + repr(len(test_exs)) + \" train/dev/test examples\"\n",
    "\n",
    "    system_to_run = \"FANCY\"\n",
    "    \n",
    "    if system_to_run == \"FF\":\n",
    "        with tf.variable_scope(\"model\", reuse=None):\n",
    "            test_exs_predicted = md.train_ffnn(train_exs, dev_exs, test_exs, word_vectors, 10)\n",
    "#         write_sentiment_examples(test_exs_predicted, \"test-blind.output.txt\", word_vectors.word_indexer)\n",
    "    elif system_to_run == \"FANCY\":\n",
    "        with tf.variable_scope(\"model2\", reuse=None):\n",
    "            test_exs_predicted = md.train_bi_lstm(train_exs[:], dev_exs, test_exs, word_vectors,\"bourdieu_bi-lstm-exp\",30)\n",
    "    else:\n",
    "        raise Exception(\"Pass in either FF or FANCY to run the appropriate system\")\n",
    "    # Write the test set output\n",
    "#     write_sentiment_examples(test_exs_predicted, \"test-blind.output.txt\", word_vectors.word_indexer)"
   ]
  },
  {
   "cell_type": "code",
   "execution_count": 3,
   "metadata": {
    "collapsed": true
   },
   "outputs": [],
   "source": [
    "##without lr"
   ]
  }
 ],
 "metadata": {
  "kernelspec": {
   "display_name": "Python 2",
   "language": "python",
   "name": "python2"
  },
  "language_info": {
   "codemirror_mode": {
    "name": "ipython",
    "version": 2
   },
   "file_extension": ".py",
   "mimetype": "text/x-python",
   "name": "python",
   "nbconvert_exporter": "python",
   "pygments_lexer": "ipython2",
   "version": "2.7.14"
  }
 },
 "nbformat": 4,
 "nbformat_minor": 2
}
