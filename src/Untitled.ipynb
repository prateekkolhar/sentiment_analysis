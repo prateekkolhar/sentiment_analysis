{
 "cells": [
  {
   "cell_type": "code",
   "execution_count": 2,
   "metadata": {
    "collapsed": true
   },
   "outputs": [],
   "source": [
    "import sys\n",
    "import models as md\n",
    "import sentiment_data as sd\n",
    "import tensorflow as tf\n",
    "import numpy as np"
   ]
  },
  {
   "cell_type": "code",
   "execution_count": 29,
   "metadata": {},
   "outputs": [
    {
     "data": {
      "text/plain": [
       "[array([  0.        ,   1.11111116,   2.22222233,   3.33333349,\n",
       "          4.44444466,   5.55555582,   6.66666698,   7.77777815,\n",
       "          0.        ,  10.        ], dtype=float32)]"
      ]
     },
     "execution_count": 29,
     "metadata": {},
     "output_type": "execute_result"
    }
   ],
   "source": [
    "# idx = tf.placeholder(tf.int32, 1 ,name=\"idx\")\n",
    "mat = tf.placeholder(tf.float32, 10 ,name=\"mat\")\n",
    "keep_prob = tf.placeholder(tf.float32, 1, name=\"keep_prob\")\n",
    "# z = mat[idx[0]]\n",
    "z = tf.nn.dropout(mat, keep_prob[0])\n",
    "\n",
    "\n",
    "sess = tf.Session()\n",
    "sess.run([z],feed_dict = {idx: [1], mat: range(10), keep_prob: [.9]})"
   ]
  },
  {
   "cell_type": "code",
   "execution_count": 2,
   "metadata": {},
   "outputs": [
    {
     "name": "stdout",
     "output_type": "stream",
     "text": [
      "0.123\n"
     ]
    }
   ],
   "source": [
    "x=0.1234\n",
    "print round(x,3)"
   ]
  }
 ],
 "metadata": {
  "kernelspec": {
   "display_name": "Python 2",
   "language": "python",
   "name": "python2"
  },
  "language_info": {
   "codemirror_mode": {
    "name": "ipython",
    "version": 2
   },
   "file_extension": ".py",
   "mimetype": "text/x-python",
   "name": "python",
   "nbconvert_exporter": "python",
   "pygments_lexer": "ipython2",
   "version": "2.7.14"
  }
 },
 "nbformat": 4,
 "nbformat_minor": 2
}
